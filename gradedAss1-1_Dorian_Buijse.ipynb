{
 "cells": [
  {
   "cell_type": "markdown",
   "metadata": {
    "raw_mimetype": "text/markdown"
   },
   "source": [
    "# Graded Lab Assignment: Logistic Regression (10 points)\n",
    "\n",
    "In this assignment you will classify hand-written digits using logistic regression.\n",
    "\n",
    "The assignment follows Andrew Ng's explanation of Logistic Regression and (re)watching his videos could be useful (Week 3)\n",
    "\n",
    "Publish your notebook (ipynb file) to your Machine Learning repository on Github ON TIME. We will check the last commit on the day of the deadline. \n",
    "\n",
    "### Deadline Tuesday, October 10th, 23:59\n",
    "\n",
    "Do not hand in any other files, the Notebook should contain all your answers.\n",
    "\n",
    "The points for the assignment are distributed as follows:\n",
    "* The implementation\n",
    "    - prediction_function (0.5)\n",
    "    - cost_function (1)\n",
    "    - compute_gradient (1)\n",
    "    - correct double for loop (2)\n",
    "    - correct stop condition (0.5)\n",
    "    - preventing overfitting (1)\n",
    "    - systematically choosing learning rate (1) \n",
    "    - best score analysis (1)\n",
    "    - summary (1)\n",
    "    - comments (0.5)\n",
    "    - code (0.5)\n",
    "    "
   ]
  },
  {
   "cell_type": "code",
   "execution_count": 1,
   "metadata": {},
   "outputs": [
    {
     "name": "stdout",
     "output_type": "stream",
     "text": [
      "Populating the interactive namespace from numpy and matplotlib\n"
     ]
    }
   ],
   "source": [
    "%pylab inline"
   ]
  },
  {
   "cell_type": "markdown",
   "metadata": {},
   "source": [
    "Scikit-learn is a toolkit that has several datasets built in. You first need to install the toolkit: http://scikit-learn.org/stable/install.html\n",
    "\n",
    "The MNIST dataset that you will be using for this assignment contains images of hand-written digits that are only 8 by 8 pixels, which means the algorithm (logistic regression) should run on every computer.\n",
    "\n",
    "The code in the cell below shows how to work with the digits dataset and  how to visualize it. As you can see the numbers are not very clear in 8x8 pixels images, this means we cannot expect our logistic regression will have a very high classification score."
   ]
  },
  {
   "cell_type": "code",
   "execution_count": 48,
   "metadata": {},
   "outputs": [
    {
     "name": "stdout",
     "output_type": "stream",
     "text": [
      "[[[  0.   0.   0.   7.  13.   0.   0.   0.]\n",
      "  [  0.   0.   0.  14.   6.   0.   0.   0.]\n",
      "  [  0.   0.  10.  10.   2.   6.   0.   0.]\n",
      "  [  0.   3.  16.   3.   9.  13.   2.   0.]\n",
      "  [  0.  11.  12.   6.  14.  16.  10.   0.]\n",
      "  [  0.  11.  16.  16.  16.  10.   3.   0.]\n",
      "  [  0.   2.   8.  10.  16.   1.   0.   0.]\n",
      "  [  0.   0.   0.   9.  13.   0.   0.   0.]]]\n"
     ]
    },
    {
     "data": {
      "image/png": "[encoded data removed]",
      "text/plain": [
       "<matplotlib.figure.Figure at 0xc64bc50>"
      ]
     },
     "metadata": {},
     "output_type": "display_data"
    }
   ],
   "source": [
    "from sklearn.datasets import load_digits\n",
    "\n",
    "digits = load_digits(n_class=10)\n",
    "\n",
    "#Create two rows with numbers\n",
    "firstrow = np.hstack(digits.images[:,:,:])\n",
    "secondrow = np.hstack(digits.images[5:10,:,:])\n",
    "thirdrow = np.hstack(digits.images[10:15,:,:])\n",
    "\n",
    "plt.gray()\n",
    "plt.axis('off')\n",
    "\n",
    "#Show both rows at the same time\n",
    "#plt.imshow(np.vstack((firstrow,secondrow, thirdrow)))\n",
    "\n",
    "plt.imshow(hstack(digits.images[1502:1503,:,:]))\n",
    "\n",
    "print(digits.images[1502:1503,:,:])\n",
    "\n",
    "#print \"The numbers shown are: \\n\", np.vstack((digits.target[:5], digits.target[5:10], digits.target[:5]))"
   ]
  },
  {
   "cell_type": "markdown",
   "metadata": {},
   "source": [
    "## The implementation\n",
    "\n",
    "You have to implement the next three functions and fill in the body of the loop in order to create a correct implementation of logistic regression. Don't change the definitions of the functions and input parameters.\n",
    "\n",
    "(1) Make sure that you do not overfit by keeping track of the score on the test set and implementing a correct stop condition. \n",
    "(2) Systematically pick a learning rate alpha that makes sure the algorithm learns in a smooth and stable manner (show how you do it). \n",
    "(3) Plot how your score on the test set improves over time. My best score was about 85% correct!\n",
    "(4) Write a short summary of what you have done (and why) to accomplish steps (1), (2) and (3).\n",
    "(5) Make sure to comment your code!"
   ]
  },
  {
   "cell_type": "code",
   "execution_count": 3,
   "metadata": {
    "collapsed": true
   },
   "outputs": [],
   "source": [
    "#Make a prediction function h\n",
    "def hpred(x,theta):\n",
    "    # theta = Vector (64, 10), Vector (64,10) -> Vector (10,1)\n",
    "    x_predict = (1 / (1 + (e**-dot(theta.T,x))))\n",
    "    return x_predict"
   ]
  },
  {
   "cell_type": "code",
   "execution_count": 4,
   "metadata": {
    "collapsed": true
   },
   "outputs": [],
   "source": [
    "#Use the output of that function to compute the cost function J:\n",
    "\n",
    "def cost_function(x_predict,y):\n",
    "    # Vector (10,1), Vector (10,1) -> Vector (10, 1)\n",
    "    # number for each class\n",
    "    #for two classes, since eacht number (n) is classified as n or the others, this cost function works\n",
    "    cost = y * log(x_predict) + (1 - y) * log(1 - x_predict)\n",
    "    J = - sum(cost) / size(x_predict)\n",
    "    return J\n"
   ]
  },
  {
   "cell_type": "code",
   "execution_count": 5,
   "metadata": {
    "collapsed": true
   },
   "outputs": [],
   "source": [
    "#Create a function that returns the gradient values, given h (x_predict), y and x:\n",
    "# NOTE: Could also be dot product!\n",
    "def compute_gradient(x_predict, y, x):\n",
    "    # Vector (10,1), Vector(10,1), Vector(64, 1) -> Vector (64, 10)\n",
    "        dtheta = outer((x_predict - y), x) / size(x)\n",
    "        return dtheta"
   ]
  },
  {
   "cell_type": "code",
   "execution_count": null,
   "metadata": {
    "collapsed": true
   },
   "outputs": [],
   "source": [
    "a = zeros(10,)\n",
    "b = zeros((3,10))\n",
    "c = zeros((10, 5))\n",
    "d = zeros((64,1))\n",
    "\n"
   ]
  },
  {
   "cell_type": "code",
   "execution_count": 81,
   "metadata": {},
   "outputs": [
    {
     "name": "stdout",
     "output_type": "stream",
     "text": [
      "[[ 0.         0.         0.         0.         0.         0.         0.         0.\n",
      "   0.         0.       ]\n",
      " [ 0.         0.         0.         0.         0.         0.         0.         0.\n",
      "   0.         0.       ]\n",
      " [ 0.0015625 -0.0015625 -0.0015625 -0.0015625 -0.0015625 -0.0015625\n",
      "  -0.0015625 -0.0015625 -0.0015625 -0.0015625]\n",
      " [ 0.0040625 -0.0040625 -0.0040625 -0.0040625 -0.0040625 -0.0040625\n",
      "  -0.0040625 -0.0040625 -0.0040625 -0.0040625]\n",
      " [ 0.0028125 -0.0028125 -0.0028125 -0.0028125 -0.0028125 -0.0028125\n",
      "  -0.0028125 -0.0028125 -0.0028125 -0.0028125]\n",
      " [ 0.0003125 -0.0003125 -0.0003125 -0.0003125 -0.0003125 -0.0003125\n",
      "  -0.0003125 -0.0003125 -0.0003125 -0.0003125]\n",
      " [ 0.         0.         0.         0.         0.         0.         0.         0.\n",
      "   0.         0.       ]\n",
      " [ 0.         0.         0.         0.         0.         0.         0.         0.\n",
      "   0.         0.       ]\n",
      " [ 0.         0.         0.         0.         0.         0.         0.         0.\n",
      "   0.         0.       ]\n",
      " [ 0.         0.         0.         0.         0.         0.         0.         0.\n",
      "   0.         0.       ]\n",
      " [ 0.0040625 -0.0040625 -0.0040625 -0.0040625 -0.0040625 -0.0040625\n",
      "  -0.0040625 -0.0040625 -0.0040625 -0.0040625]\n",
      " [ 0.0046875 -0.0046875 -0.0046875 -0.0046875 -0.0046875 -0.0046875\n",
      "  -0.0046875 -0.0046875 -0.0046875 -0.0046875]\n",
      " [ 0.003125  -0.003125  -0.003125  -0.003125  -0.003125  -0.003125\n",
      "  -0.003125  -0.003125  -0.003125  -0.003125 ]\n",
      " [ 0.0046875 -0.0046875 -0.0046875 -0.0046875 -0.0046875 -0.0046875\n",
      "  -0.0046875 -0.0046875 -0.0046875 -0.0046875]\n",
      " [ 0.0015625 -0.0015625 -0.0015625 -0.0015625 -0.0015625 -0.0015625\n",
      "  -0.0015625 -0.0015625 -0.0015625 -0.0015625]\n",
      " [ 0.         0.         0.         0.         0.         0.         0.         0.\n",
      "   0.         0.       ]\n",
      " [ 0.         0.         0.         0.         0.         0.         0.         0.\n",
      "   0.         0.       ]\n",
      " [ 0.0009375 -0.0009375 -0.0009375 -0.0009375 -0.0009375 -0.0009375\n",
      "  -0.0009375 -0.0009375 -0.0009375 -0.0009375]\n",
      " [ 0.0046875 -0.0046875 -0.0046875 -0.0046875 -0.0046875 -0.0046875\n",
      "  -0.0046875 -0.0046875 -0.0046875 -0.0046875]\n",
      " [ 0.000625  -0.000625  -0.000625  -0.000625  -0.000625  -0.000625\n",
      "  -0.000625  -0.000625  -0.000625  -0.000625 ]\n",
      " [ 0.         0.         0.         0.         0.         0.         0.         0.\n",
      "   0.         0.       ]\n",
      " [ 0.0034375 -0.0034375 -0.0034375 -0.0034375 -0.0034375 -0.0034375\n",
      "  -0.0034375 -0.0034375 -0.0034375 -0.0034375]\n",
      " [ 0.0025    -0.0025    -0.0025    -0.0025    -0.0025    -0.0025    -0.0025\n",
      "  -0.0025    -0.0025    -0.0025   ]\n",
      " [ 0.         0.         0.         0.         0.         0.         0.         0.\n",
      "   0.         0.       ]\n",
      " [ 0.         0.         0.         0.         0.         0.         0.         0.\n",
      "   0.         0.       ]\n",
      " [ 0.00125   -0.00125   -0.00125   -0.00125   -0.00125   -0.00125   -0.00125\n",
      "  -0.00125   -0.00125   -0.00125  ]\n",
      " [ 0.00375   -0.00375   -0.00375   -0.00375   -0.00375   -0.00375   -0.00375\n",
      "  -0.00375   -0.00375   -0.00375  ]\n",
      " [ 0.         0.         0.         0.         0.         0.         0.         0.\n",
      "   0.         0.       ]\n",
      " [ 0.         0.         0.         0.         0.         0.         0.         0.\n",
      "   0.         0.       ]\n",
      " [ 0.0025    -0.0025    -0.0025    -0.0025    -0.0025    -0.0025    -0.0025\n",
      "  -0.0025    -0.0025    -0.0025   ]\n",
      " [ 0.0025    -0.0025    -0.0025    -0.0025    -0.0025    -0.0025    -0.0025\n",
      "  -0.0025    -0.0025    -0.0025   ]\n",
      " [ 0.         0.         0.         0.         0.         0.         0.         0.\n",
      "   0.         0.       ]\n",
      " [ 0.         0.         0.         0.         0.         0.         0.         0.\n",
      "   0.         0.       ]\n",
      " [ 0.0015625 -0.0015625 -0.0015625 -0.0015625 -0.0015625 -0.0015625\n",
      "  -0.0015625 -0.0015625 -0.0015625 -0.0015625]\n",
      " [ 0.0025    -0.0025    -0.0025    -0.0025    -0.0025    -0.0025    -0.0025\n",
      "  -0.0025    -0.0025    -0.0025   ]\n",
      " [ 0.         0.         0.         0.         0.         0.         0.         0.\n",
      "   0.         0.       ]\n",
      " [ 0.         0.         0.         0.         0.         0.         0.         0.\n",
      "   0.         0.       ]\n",
      " [ 0.0028125 -0.0028125 -0.0028125 -0.0028125 -0.0028125 -0.0028125\n",
      "  -0.0028125 -0.0028125 -0.0028125 -0.0028125]\n",
      " [ 0.0025    -0.0025    -0.0025    -0.0025    -0.0025    -0.0025    -0.0025\n",
      "  -0.0025    -0.0025    -0.0025   ]\n",
      " [ 0.         0.         0.         0.         0.         0.         0.         0.\n",
      "   0.         0.       ]\n",
      " [ 0.         0.         0.         0.         0.         0.         0.         0.\n",
      "   0.         0.       ]\n",
      " [ 0.00125   -0.00125   -0.00125   -0.00125   -0.00125   -0.00125   -0.00125\n",
      "  -0.00125   -0.00125   -0.00125  ]\n",
      " [ 0.0034375 -0.0034375 -0.0034375 -0.0034375 -0.0034375 -0.0034375\n",
      "  -0.0034375 -0.0034375 -0.0034375 -0.0034375]\n",
      " [ 0.         0.         0.         0.         0.         0.         0.         0.\n",
      "   0.         0.       ]\n",
      " [ 0.0003125 -0.0003125 -0.0003125 -0.0003125 -0.0003125 -0.0003125\n",
      "  -0.0003125 -0.0003125 -0.0003125 -0.0003125]\n",
      " [ 0.00375   -0.00375   -0.00375   -0.00375   -0.00375   -0.00375   -0.00375\n",
      "  -0.00375   -0.00375   -0.00375  ]\n",
      " [ 0.0021875 -0.0021875 -0.0021875 -0.0021875 -0.0021875 -0.0021875\n",
      "  -0.0021875 -0.0021875 -0.0021875 -0.0021875]\n",
      " [ 0.         0.         0.         0.         0.         0.         0.         0.\n",
      "   0.         0.       ]\n",
      " [ 0.         0.         0.         0.         0.         0.         0.         0.\n",
      "   0.         0.       ]\n",
      " [ 0.000625  -0.000625  -0.000625  -0.000625  -0.000625  -0.000625\n",
      "  -0.000625  -0.000625  -0.000625  -0.000625 ]\n",
      " [ 0.004375  -0.004375  -0.004375  -0.004375  -0.004375  -0.004375\n",
      "  -0.004375  -0.004375  -0.004375  -0.004375 ]\n",
      " [ 0.0015625 -0.0015625 -0.0015625 -0.0015625 -0.0015625 -0.0015625\n",
      "  -0.0015625 -0.0015625 -0.0015625 -0.0015625]\n",
      " [ 0.003125  -0.003125  -0.003125  -0.003125  -0.003125  -0.003125\n",
      "  -0.003125  -0.003125  -0.003125  -0.003125 ]\n",
      " [ 0.00375   -0.00375   -0.00375   -0.00375   -0.00375   -0.00375   -0.00375\n",
      "  -0.00375   -0.00375   -0.00375  ]\n",
      " [ 0.         0.         0.         0.         0.         0.         0.         0.\n",
      "   0.         0.       ]\n",
      " [ 0.         0.         0.         0.         0.         0.         0.         0.\n",
      "   0.         0.       ]\n",
      " [ 0.         0.         0.         0.         0.         0.         0.         0.\n",
      "   0.         0.       ]\n",
      " [ 0.         0.         0.         0.         0.         0.         0.         0.\n",
      "   0.         0.       ]\n",
      " [ 0.001875  -0.001875  -0.001875  -0.001875  -0.001875  -0.001875\n",
      "  -0.001875  -0.001875  -0.001875  -0.001875 ]\n",
      " [ 0.0040625 -0.0040625 -0.0040625 -0.0040625 -0.0040625 -0.0040625\n",
      "  -0.0040625 -0.0040625 -0.0040625 -0.0040625]\n",
      " [ 0.003125  -0.003125  -0.003125  -0.003125  -0.003125  -0.003125\n",
      "  -0.003125  -0.003125  -0.003125  -0.003125 ]\n",
      " [ 0.         0.         0.         0.         0.         0.         0.         0.\n",
      "   0.         0.       ]\n",
      " [ 0.         0.         0.         0.         0.         0.         0.         0.\n",
      "   0.         0.       ]\n",
      " [ 0.         0.         0.         0.         0.         0.         0.         0.\n",
      "   0.         0.       ]]\n"
     ]
    }
   ],
   "source": [
    "#Choose a suitable learning rate\n",
    "alpha = 0.04\n",
    "iterations = 25\n",
    "theta = zeros((64,10)) # 1 theta per pixel, 64 pixels, for 10 different classes\n",
    "stop = 1\n",
    "cost = 10\n",
    "\n",
    "#It is important to check that you're not overfitting by testing your prediction on a testset\n",
    "x = reshape(digits.images[:1500],(1500,64))\n",
    "x_test = reshape(digits.images[1500:],(297,64))\n",
    "\n",
    "\n",
    "# x is a vector containing 1500 different examples of numbers\n",
    "#print x[0,:].reshape(8,8)\n",
    "\n",
    "target = digits.target[:1500]\n",
    "target_test = digits.target[1500:]\n",
    "\n",
    "for i in range(iterations): #\n",
    "    for j in range(x.shape[0]):\n",
    "        while cost > stop:  #costb is previous cost, costaa is the new cost\n",
    "            x_predict = hpred(x[j,:].T,theta)\n",
    "            y = np.zeros(10)\n",
    "            y[target[j]] = 1\n",
    "            cost = cost_function(x_predict,y)\n",
    "            dtheta = compute_gradient(x_predict, y, x[j, :])\n",
    "            theta -= alpha * dtheta.T\n",
    "            \n",
    "print(theta)\n",
    "#print(x.shape)\n",
    "#print(y.shape)\n",
    "#print(x_predict.shape)\n",
    "#print(theta.shape)\n",
    "\n",
    "#print(hpred(x.T, theta)[0,:].shape)\n",
    "#print(hpred(x.T, theta).shape)\n",
    "#print(hpred(x.T, theta))\n",
    "\n",
    "#----------------------------------------------------------------------------------------\n",
    "\n",
    "def mainfnct(x, theta):\n",
    "    #for a new image input, find highest probability and return the index\n",
    "    print(argmax(hpred(x.T, theta)))\n",
    "    print(amax(hpred(x.T,theta)))\n",
    "\n",
    "    \n",
    "#print(hpred(x.T,theta)[:,1308])"
   ]
  },
  {
   "cell_type": "code",
   "execution_count": 82,
   "metadata": {},
   "outputs": [
    {
     "name": "stdout",
     "output_type": "stream",
     "text": [
      "[[  0.   0.   0.   7.  13.   0.   0.   0.   0.   0.   0.  14.   6.   0.\n",
      "    0.   0.   0.   0.  10.  10.   2.   6.   0.   0.   0.   3.  16.   3.\n",
      "    9.  13.   2.   0.   0.  11.  12.   6.  14.  16.  10.   0.   0.  11.\n",
      "   16.  16.  16.  10.   3.   0.   0.   2.   8.  10.  16.   1.   0.   0.\n",
      "    0.   0.   0.   9.  13.   0.   0.   0.]]\n"
     ]
    }
   ],
   "source": [
    "print(digits.data[1502:1503])"
   ]
  },
  {
   "cell_type": "code",
   "execution_count": 65,
   "metadata": {},
   "outputs": [
    {
     "name": "stdout",
     "output_type": "stream",
     "text": [
      "0\n",
      "0.683723658912\n"
     ]
    }
   ],
   "source": [
    "mainfnct(digits.data[1504], theta)"
   ]
  },
  {
   "cell_type": "code",
   "execution_count": 58,
   "metadata": {},
   "outputs": [
    {
     "data": {
      "text/plain": [
       "array([0, 1, 2, 3, 4, 5, 6, 7, 8, 9, 0, 1, 2, 3, 4, 5, 6, 7, 8, 9])"
      ]
     },
     "execution_count": 58,
     "metadata": {},
     "output_type": "execute_result"
    }
   ],
   "source": [
    "digits.target[:20]"
   ]
  },
  {
   "cell_type": "code",
   "execution_count": 42,
   "metadata": {},
   "outputs": [
    {
     "name": "stdout",
     "output_type": "stream",
     "text": [
      "12\n"
     ]
    }
   ],
   "source": [
    "L = matrix([1, 2, 3, 4, 8, 2, 9,10, 1, 2 ,2, 0.5, 10.5])\n",
    "print(argmax(L))"
   ]
  },
  {
   "cell_type": "code",
   "execution_count": null,
   "metadata": {
    "collapsed": true
   },
   "outputs": [],
   "source": []
  }
 ],
 "metadata": {
  "anaconda-cloud": {},
  "celltoolbar": "Raw Cell Format",
  "kernelspec": {
   "display_name": "Python [conda env:py27]",
   "language": "python",
   "name": "conda-env-py27-py"
  },
  "language_info": {
   "codemirror_mode": {
    "name": "ipython",
    "version": 2
   },
   "file_extension": ".py",
   "mimetype": "text/x-python",
   "name": "python",
   "nbconvert_exporter": "python",
   "pygments_lexer": "ipython2",
   "version": "2.7.13"
  }
 },
 "nbformat": 4,
 "nbformat_minor": 1
}
