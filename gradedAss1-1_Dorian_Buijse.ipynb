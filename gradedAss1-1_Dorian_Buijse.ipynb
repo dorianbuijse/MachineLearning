{
 "cells": [
  {
   "cell_type": "markdown",
   "metadata": {
    "raw_mimetype": "text/markdown"
   },
   "source": [
    "# Graded Lab Assignment: Logistic Regression (10 points)\n",
    "\n",
    "In this assignment you will classify hand-written digits using logistic regression.\n",
    "\n",
    "The assignment follows Andrew Ng's explanation of Logistic Regression and (re)watching his videos could be useful (Week 3)\n",
    "\n",
    "Publish your notebook (ipynb file) to your Machine Learning repository on Github ON TIME. We will check the last commit on the day of the deadline. \n",
    "\n",
    "### Deadline Tuesday, October 10th, 23:59\n",
    "\n",
    "Do not hand in any other files, the Notebook should contain all your answers.\n",
    "\n",
    "The points for the assignment are distributed as follows:\n",
    "* The implementation\n",
    "    - prediction_function (0.5)\n",
    "    - cost_function (1)\n",
    "    - compute_gradient (1)\n",
    "    - correct double for loop (2)\n",
    "    - correct stop condition (0.5)\n",
    "    - preventing overfitting (1)\n",
    "    - systematically choosing learning rate (1) \n",
    "    - best score analysis (1)\n",
    "    - summary (1)\n",
    "    - comments (0.5)\n",
    "    - code (0.5)\n",
    "    "
   ]
  },
  {
   "cell_type": "code",
   "execution_count": 2,
   "metadata": {},
   "outputs": [
    {
     "name": "stdout",
     "output_type": "stream",
     "text": [
      "Populating the interactive namespace from numpy and matplotlib\n"
     ]
    }
   ],
   "source": [
    "%pylab inline"
   ]
  },
  {
   "cell_type": "code",
   "execution_count": 21,
   "metadata": {},
   "outputs": [
    {
     "name": "stdout",
     "output_type": "stream",
     "text": [
      "This is 0\n",
      "[[  0.   0.   5.  13.   9.   1.   0.   0.]\n",
      " [  0.   0.  13.  15.  10.  15.   5.   0.]\n",
      " [  0.   3.  15.   2.   0.  11.   8.   0.]\n",
      " [  0.   4.  12.   0.   0.   8.   8.   0.]\n",
      " [  0.   5.   8.   0.   0.   9.   8.   0.]\n",
      " [  0.   4.  11.   0.   1.  12.   7.   0.]\n",
      " [  0.   2.  14.   5.  10.  12.   0.   0.]\n",
      " [  0.   0.   6.  13.  10.   0.   0.   0.]]\n",
      "---\n",
      "This is 1\n",
      "[[  0.   0.   0.  12.  13.   5.   0.   0.]\n",
      " [  0.   0.   0.  11.  16.   9.   0.   0.]\n",
      " [  0.   0.   3.  15.  16.   6.   0.   0.]\n",
      " [  0.   7.  15.  16.  16.   2.   0.   0.]\n",
      " [  0.   0.   1.  16.  16.   3.   0.   0.]\n",
      " [  0.   0.   1.  16.  16.   6.   0.   0.]\n",
      " [  0.   0.   1.  16.  16.   6.   0.   0.]\n",
      " [  0.   0.   0.  11.  16.  10.   0.   0.]]\n",
      "---\n",
      "This is 2\n",
      "[[  0.   0.   0.   4.  15.  12.   0.   0.]\n",
      " [  0.   0.   3.  16.  15.  14.   0.   0.]\n",
      " [  0.   0.   8.  13.   8.  16.   0.   0.]\n",
      " [  0.   0.   1.   6.  15.  11.   0.   0.]\n",
      " [  0.   1.   8.  13.  15.   1.   0.   0.]\n",
      " [  0.   9.  16.  16.   5.   0.   0.   0.]\n",
      " [  0.   3.  13.  16.  16.  11.   5.   0.]\n",
      " [  0.   0.   0.   3.  11.  16.   9.   0.]]\n",
      "---\n",
      "This is 3\n",
      "[[  0.   0.   7.  15.  13.   1.   0.   0.]\n",
      " [  0.   8.  13.   6.  15.   4.   0.   0.]\n",
      " [  0.   2.   1.  13.  13.   0.   0.   0.]\n",
      " [  0.   0.   2.  15.  11.   1.   0.   0.]\n",
      " [  0.   0.   0.   1.  12.  12.   1.   0.]\n",
      " [  0.   0.   0.   0.   1.  10.   8.   0.]\n",
      " [  0.   0.   8.   4.   5.  14.   9.   0.]\n",
      " [  0.   0.   7.  13.  13.   9.   0.   0.]]\n",
      "---\n",
      "This is 4\n",
      "[[  0.   0.   0.   1.  11.   0.   0.   0.]\n",
      " [  0.   0.   0.   7.   8.   0.   0.   0.]\n",
      " [  0.   0.   1.  13.   6.   2.   2.   0.]\n",
      " [  0.   0.   7.  15.   0.   9.   8.   0.]\n",
      " [  0.   5.  16.  10.   0.  16.   6.   0.]\n",
      " [  0.   4.  15.  16.  13.  16.   1.   0.]\n",
      " [  0.   0.   0.   3.  15.  10.   0.   0.]\n",
      " [  0.   0.   0.   2.  16.   4.   0.   0.]]\n",
      "---\n",
      "This is 5\n",
      "[[  0.   0.  12.  10.   0.   0.   0.   0.]\n",
      " [  0.   0.  14.  16.  16.  14.   0.   0.]\n",
      " [  0.   0.  13.  16.  15.  10.   1.   0.]\n",
      " [  0.   0.  11.  16.  16.   7.   0.   0.]\n",
      " [  0.   0.   0.   4.   7.  16.   7.   0.]\n",
      " [  0.   0.   0.   0.   4.  16.   9.   0.]\n",
      " [  0.   0.   5.   4.  12.  16.   4.   0.]\n",
      " [  0.   0.   9.  16.  16.  10.   0.   0.]]\n",
      "---\n",
      "This is 6\n",
      "[[  0.   0.   0.  12.  13.   0.   0.   0.]\n",
      " [  0.   0.   5.  16.   8.   0.   0.   0.]\n",
      " [  0.   0.  13.  16.   3.   0.   0.   0.]\n",
      " [  0.   0.  14.  13.   0.   0.   0.   0.]\n",
      " [  0.   0.  15.  12.   7.   2.   0.   0.]\n",
      " [  0.   0.  13.  16.  13.  16.   3.   0.]\n",
      " [  0.   0.   7.  16.  11.  15.   8.   0.]\n",
      " [  0.   0.   1.   9.  15.  11.   3.   0.]]\n"
     ]
    }
   ],
   "source": [
    "print(\"This is 0\")\n",
    "print(digits.data[0].reshape(8,8))\n",
    "print('---')\n",
    "print(\"This is 1\")\n",
    "print(digits.data[1].reshape(8,8))\n",
    "print('---')\n",
    "print(\"This is 2\")\n",
    "print(digits.data[2].reshape(8,8))\n",
    "print('---')\n",
    "print(\"This is 3\")\n",
    "print(digits.data[3].reshape(8,8))\n",
    "print('---')\n",
    "print(\"This is 4\")\n",
    "print(digits.data[4].reshape(8,8))\n",
    "print('---')\n",
    "print(\"This is 5\")\n",
    "print(digits.data[5].reshape(8,8))\n",
    "print('---')\n",
    "print(\"This is 6\")\n",
    "print(digits.data[6].reshape(8,8))"
   ]
  },
  {
   "cell_type": "markdown",
   "metadata": {},
   "source": [
    "Scikit-learn is a toolkit that has several datasets built in. You first need to install the toolkit: http://scikit-learn.org/stable/install.html\n",
    "\n",
    "The MNIST dataset that you will be using for this assignment contains images of hand-written digits that are only 8 by 8 pixels, which means the algorithm (logistic regression) should run on every computer.\n",
    "\n",
    "The code in the cell below shows how to work with the digits dataset and  how to visualize it. As you can see the numbers are not very clear in 8x8 pixels images, this means we cannot expect our logistic regression will have a very high classification score."
   ]
  },
  {
   "cell_type": "code",
   "execution_count": 27,
   "metadata": {},
   "outputs": [
    {
     "data": {
      "text/plain": [
       "<matplotlib.image.AxesImage at 0xa5f46d8>"
      ]
     },
     "execution_count": 27,
     "metadata": {},
     "output_type": "execute_result"
    },
    {
     "data": {
      "image/png": "[encoded data removed]",
      "text/plain": [
       "<matplotlib.figure.Figure at 0xbdc0cf8>"
      ]
     },
     "metadata": {},
     "output_type": "display_data"
    }
   ],
   "source": [
    "from sklearn.datasets import load_digits\n",
    "\n",
    "digits = load_digits(n_class=10)\n",
    "\n",
    "#Create two rows with numbers\n",
    "firstrow = np.hstack(digits.images[:,:,:])\n",
    "secondrow = np.hstack(digits.images[5:10,:,:])\n",
    "thirdrow = np.hstack(digits.images[10:15,:,:])\n",
    "\n",
    "plt.gray()\n",
    "plt.axis('off')\n",
    "\n",
    "#Show both rows at the same time\n",
    "#plt.imshow(np.vstack((firstrow,secondrow, thirdrow)))\n",
    "\n",
    "plt.imshow(np.hstack(digits.images[10:11,:,:]))\n",
    "\n",
    "\n",
    "#print \"The numbers shown are: \\n\", np.vstack((digits.target[:5], digits.target[5:10], digits.target[:5]))"
   ]
  },
  {
   "cell_type": "markdown",
   "metadata": {},
   "source": [
    "## The implementation\n",
    "\n",
    "You have to implement the next three functions and fill in the body of the loop in order to create a correct implementation of logistic regression. Don't change the definitions of the functions and input parameters.\n",
    "\n",
    "(1) Make sure that you do not overfit by keeping track of the score on the test set and implementing a correct stop condition. \n",
    "(2) Systematically pick a learning rate alpha that makes sure the algorithm learns in a smooth and stable manner (show how you do it). \n",
    "(3) Plot how your score on the test set improves over time. My best score was about 85% correct!\n",
    "(4) Write a short summary of what you have done (and why) to accomplish steps (1), (2) and (3).\n",
    "(5) Make sure to comment your code!"
   ]
  },
  {
   "cell_type": "code",
   "execution_count": null,
   "metadata": {},
   "outputs": [],
   "source": [
    "#Make a prediction function h\n",
    "def prediction_function(x,theta):"
   ]
  },
  {
   "cell_type": "code",
   "execution_count": null,
   "metadata": {},
   "outputs": [],
   "source": [
    "#Use the output of that function to compute the cost function J:\n",
    "def cost_function(x_predict,y):        "
   ]
  },
  {
   "cell_type": "code",
   "execution_count": null,
   "metadata": {},
   "outputs": [],
   "source": [
    "#Create a function that returns the gradient values, given h (x_predict), y and x:\n",
    "def compute_gradient(x_predict, y, x):"
   ]
  },
  {
   "cell_type": "code",
   "execution_count": null,
   "metadata": {},
   "outputs": [],
   "source": [
    "#Choose a suitable learning rate\n",
    "# alpha = \n",
    "iterations = 25\n",
    "theta = zeros((64,10))\n",
    "\n",
    "#It is important to check that you're not overfitting by testing your prediction on a testset\n",
    "x = reshape(digits.images[:1500],(1500,64))\n",
    "x_test = reshape(digits.images[1500:],(297,64))\n",
    "\n",
    "target = digits.target[:1500]\n",
    "target_test = digits.target[1500:]\n",
    "\n",
    "print x[0,:]\n",
    "\n",
    "\n",
    "# for i in range(iterations):\n",
    "#     for j in range(x.shape[0]):\n",
    "        \n",
    "#         x_predict = prediction_function(x[j,:].T,theta)\n",
    "#         y = np.zeros(10)\n",
    "#         y[target[j]] = 1\n",
    "        \n",
    "#         cost_function(x_predict,y)\n",
    "    \n",
    "# #In Andrew Ng's presentation he says that y needs to be 1 or 0.\n",
    "# #You can use the following example code in the inner loop of your implementation\n",
    "# y = np.zeros(10) #First create a y vector with only zeros\n",
    "# y[target[j]] = 1 #Then set the right class equal to 1"
   ]
  },
  {
   "cell_type": "code",
   "execution_count": null,
   "metadata": {
    "collapsed": true
   },
   "outputs": [],
   "source": []
  }
 ],
 "metadata": {
  "anaconda-cloud": {},
  "celltoolbar": "Raw Cell Format",
  "kernelspec": {
   "display_name": "Python 2",
   "language": "python",
   "name": "python2"
  },
  "language_info": {
   "codemirror_mode": {
    "name": "ipython",
    "version": 2
   },
   "file_extension": ".py",
   "mimetype": "text/x-python",
   "name": "python",
   "nbconvert_exporter": "python",
   "pygments_lexer": "ipython2",
   "version": "2.7.13"
  }
 },
 "nbformat": 4,
 "nbformat_minor": 1
}
